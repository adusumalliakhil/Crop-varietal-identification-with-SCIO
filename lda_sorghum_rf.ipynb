{
 "cells": [
  {
   "cell_type": "code",
   "execution_count": 3,
   "metadata": {},
   "outputs": [],
   "source": [
    "import numpy as np\n",
    "import pandas as pd"
   ]
  },
  {
   "cell_type": "code",
   "execution_count": 4,
   "metadata": {},
   "outputs": [],
   "source": [
    "df = pd.read_csv(\"D:\\\\newproject\\\\New folder\\\\Sorghum.data.csv\")"
   ]
  },
  {
   "cell_type": "code",
   "execution_count": 5,
   "metadata": {},
   "outputs": [
    {
     "data": {
      "text/plain": [
       "True"
      ]
     },
     "execution_count": 5,
     "metadata": {},
     "output_type": "execute_result"
    }
   ],
   "source": [
    "#Na Handling\n",
    "df.isnull().values.any()"
   ]
  },
  {
   "cell_type": "code",
   "execution_count": 6,
   "metadata": {},
   "outputs": [],
   "source": [
    "df=df.dropna()"
   ]
  },
  {
   "cell_type": "code",
   "execution_count": 7,
   "metadata": {},
   "outputs": [],
   "source": [
    "from sklearn.model_selection import cross_val_predict, cross_val_score\n",
    "from sklearn.metrics import accuracy_score, classification_report, confusion_matrix"
   ]
  },
  {
   "cell_type": "code",
   "execution_count": 8,
   "metadata": {},
   "outputs": [],
   "source": [
    "X = df.drop(['Predictor'], axis=1)\n",
    "X_col = X.columns"
   ]
  },
  {
   "cell_type": "code",
   "execution_count": 9,
   "metadata": {},
   "outputs": [],
   "source": [
    "y = df['Predictor']"
   ]
  },
  {
   "cell_type": "code",
   "execution_count": 10,
   "metadata": {},
   "outputs": [
    {
     "name": "stderr",
     "output_type": "stream",
     "text": [
      "C:\\Users\\akhil\\Anaconda3\\lib\\site-packages\\scipy\\signal\\_arraytools.py:45: FutureWarning: Using a non-tuple sequence for multidimensional indexing is deprecated; use `arr[tuple(seq)]` instead of `arr[seq]`. In the future this will be interpreted as an array index, `arr[np.array(seq)]`, which will result either in an error or a different result.\n",
      "  b = a[a_slice]\n"
     ]
    }
   ],
   "source": [
    "\n",
    "#Savitzky-Golay filter with second degree derivative.\n",
    "from scipy.signal import savgol_filter \n",
    "\n",
    "sg=savgol_filter(X,window_length=11, polyorder=3, deriv=2, delta=1.0)"
   ]
  },
  {
   "cell_type": "code",
   "execution_count": 11,
   "metadata": {},
   "outputs": [
    {
     "data": {
      "text/html": [
       "<div>\n",
       "<style scoped>\n",
       "    .dataframe tbody tr th:only-of-type {\n",
       "        vertical-align: middle;\n",
       "    }\n",
       "\n",
       "    .dataframe tbody tr th {\n",
       "        vertical-align: top;\n",
       "    }\n",
       "\n",
       "    .dataframe thead th {\n",
       "        text-align: right;\n",
       "    }\n",
       "</style>\n",
       "<table border=\"1\" class=\"dataframe\">\n",
       "  <thead>\n",
       "    <tr style=\"text-align: right;\">\n",
       "      <th></th>\n",
       "      <th>740</th>\n",
       "      <th>741</th>\n",
       "      <th>742</th>\n",
       "      <th>743</th>\n",
       "      <th>744</th>\n",
       "      <th>745</th>\n",
       "      <th>746</th>\n",
       "      <th>747</th>\n",
       "      <th>748</th>\n",
       "      <th>749</th>\n",
       "      <th>...</th>\n",
       "      <th>1061</th>\n",
       "      <th>1062</th>\n",
       "      <th>1063</th>\n",
       "      <th>1064</th>\n",
       "      <th>1065</th>\n",
       "      <th>1066</th>\n",
       "      <th>1067</th>\n",
       "      <th>1068</th>\n",
       "      <th>1069</th>\n",
       "      <th>1070</th>\n",
       "    </tr>\n",
       "  </thead>\n",
       "  <tbody>\n",
       "    <tr>\n",
       "      <th>0</th>\n",
       "      <td>0.000313</td>\n",
       "      <td>0.000282</td>\n",
       "      <td>0.000250</td>\n",
       "      <td>0.000218</td>\n",
       "      <td>0.000186</td>\n",
       "      <td>0.000154</td>\n",
       "      <td>0.000121</td>\n",
       "      <td>0.000079</td>\n",
       "      <td>0.000037</td>\n",
       "      <td>4.515035e-07</td>\n",
       "      <td>...</td>\n",
       "      <td>-0.000507</td>\n",
       "      <td>-0.000523</td>\n",
       "      <td>-0.000332</td>\n",
       "      <td>-0.000003</td>\n",
       "      <td>0.000329</td>\n",
       "      <td>0.000805</td>\n",
       "      <td>0.001281</td>\n",
       "      <td>0.001757</td>\n",
       "      <td>0.002233</td>\n",
       "      <td>0.002709</td>\n",
       "    </tr>\n",
       "    <tr>\n",
       "      <th>1</th>\n",
       "      <td>0.000259</td>\n",
       "      <td>0.000235</td>\n",
       "      <td>0.000210</td>\n",
       "      <td>0.000185</td>\n",
       "      <td>0.000161</td>\n",
       "      <td>0.000136</td>\n",
       "      <td>0.000110</td>\n",
       "      <td>0.000071</td>\n",
       "      <td>0.000029</td>\n",
       "      <td>-7.377783e-06</td>\n",
       "      <td>...</td>\n",
       "      <td>-0.000534</td>\n",
       "      <td>-0.000550</td>\n",
       "      <td>-0.000346</td>\n",
       "      <td>0.000004</td>\n",
       "      <td>0.000357</td>\n",
       "      <td>0.000864</td>\n",
       "      <td>0.001370</td>\n",
       "      <td>0.001877</td>\n",
       "      <td>0.002384</td>\n",
       "      <td>0.002890</td>\n",
       "    </tr>\n",
       "    <tr>\n",
       "      <th>2</th>\n",
       "      <td>0.000225</td>\n",
       "      <td>0.000203</td>\n",
       "      <td>0.000181</td>\n",
       "      <td>0.000158</td>\n",
       "      <td>0.000136</td>\n",
       "      <td>0.000114</td>\n",
       "      <td>0.000090</td>\n",
       "      <td>0.000058</td>\n",
       "      <td>0.000023</td>\n",
       "      <td>-5.902443e-06</td>\n",
       "      <td>...</td>\n",
       "      <td>-0.000508</td>\n",
       "      <td>-0.000524</td>\n",
       "      <td>-0.000334</td>\n",
       "      <td>-0.000009</td>\n",
       "      <td>0.000321</td>\n",
       "      <td>0.000794</td>\n",
       "      <td>0.001266</td>\n",
       "      <td>0.001739</td>\n",
       "      <td>0.002211</td>\n",
       "      <td>0.002684</td>\n",
       "    </tr>\n",
       "    <tr>\n",
       "      <th>3</th>\n",
       "      <td>0.000158</td>\n",
       "      <td>0.000150</td>\n",
       "      <td>0.000141</td>\n",
       "      <td>0.000133</td>\n",
       "      <td>0.000125</td>\n",
       "      <td>0.000117</td>\n",
       "      <td>0.000105</td>\n",
       "      <td>0.000078</td>\n",
       "      <td>0.000045</td>\n",
       "      <td>1.314993e-05</td>\n",
       "      <td>...</td>\n",
       "      <td>-0.000520</td>\n",
       "      <td>-0.000536</td>\n",
       "      <td>-0.000336</td>\n",
       "      <td>0.000006</td>\n",
       "      <td>0.000351</td>\n",
       "      <td>0.000846</td>\n",
       "      <td>0.001341</td>\n",
       "      <td>0.001835</td>\n",
       "      <td>0.002330</td>\n",
       "      <td>0.002825</td>\n",
       "    </tr>\n",
       "    <tr>\n",
       "      <th>4</th>\n",
       "      <td>0.000316</td>\n",
       "      <td>0.000287</td>\n",
       "      <td>0.000257</td>\n",
       "      <td>0.000228</td>\n",
       "      <td>0.000198</td>\n",
       "      <td>0.000169</td>\n",
       "      <td>0.000138</td>\n",
       "      <td>0.000096</td>\n",
       "      <td>0.000053</td>\n",
       "      <td>1.504493e-05</td>\n",
       "      <td>...</td>\n",
       "      <td>-0.000507</td>\n",
       "      <td>-0.000522</td>\n",
       "      <td>-0.000331</td>\n",
       "      <td>-0.000004</td>\n",
       "      <td>0.000327</td>\n",
       "      <td>0.000801</td>\n",
       "      <td>0.001276</td>\n",
       "      <td>0.001750</td>\n",
       "      <td>0.002225</td>\n",
       "      <td>0.002699</td>\n",
       "    </tr>\n",
       "  </tbody>\n",
       "</table>\n",
       "<p>5 rows × 331 columns</p>\n",
       "</div>"
      ],
      "text/plain": [
       "        740       741       742       743       744       745       746  \\\n",
       "0  0.000313  0.000282  0.000250  0.000218  0.000186  0.000154  0.000121   \n",
       "1  0.000259  0.000235  0.000210  0.000185  0.000161  0.000136  0.000110   \n",
       "2  0.000225  0.000203  0.000181  0.000158  0.000136  0.000114  0.000090   \n",
       "3  0.000158  0.000150  0.000141  0.000133  0.000125  0.000117  0.000105   \n",
       "4  0.000316  0.000287  0.000257  0.000228  0.000198  0.000169  0.000138   \n",
       "\n",
       "        747       748           749    ...         1061      1062      1063  \\\n",
       "0  0.000079  0.000037  4.515035e-07    ...    -0.000507 -0.000523 -0.000332   \n",
       "1  0.000071  0.000029 -7.377783e-06    ...    -0.000534 -0.000550 -0.000346   \n",
       "2  0.000058  0.000023 -5.902443e-06    ...    -0.000508 -0.000524 -0.000334   \n",
       "3  0.000078  0.000045  1.314993e-05    ...    -0.000520 -0.000536 -0.000336   \n",
       "4  0.000096  0.000053  1.504493e-05    ...    -0.000507 -0.000522 -0.000331   \n",
       "\n",
       "       1064      1065      1066      1067      1068      1069      1070  \n",
       "0 -0.000003  0.000329  0.000805  0.001281  0.001757  0.002233  0.002709  \n",
       "1  0.000004  0.000357  0.000864  0.001370  0.001877  0.002384  0.002890  \n",
       "2 -0.000009  0.000321  0.000794  0.001266  0.001739  0.002211  0.002684  \n",
       "3  0.000006  0.000351  0.000846  0.001341  0.001835  0.002330  0.002825  \n",
       "4 -0.000004  0.000327  0.000801  0.001276  0.001750  0.002225  0.002699  \n",
       "\n",
       "[5 rows x 331 columns]"
      ]
     },
     "execution_count": 11,
     "metadata": {},
     "output_type": "execute_result"
    }
   ],
   "source": [
    "sg_x=pd.DataFrame(sg, columns=X_col)\n",
    "sg_x.head()"
   ]
  },
  {
   "cell_type": "code",
   "execution_count": 18,
   "metadata": {},
   "outputs": [],
   "source": [
    "from sklearn.preprocessing import StandardScaler\n",
    "scaler = StandardScaler()\n",
    "scaled_data = scaler.fit_transform(sg)"
   ]
  },
  {
   "cell_type": "code",
   "execution_count": 24,
   "metadata": {},
   "outputs": [],
   "source": [
    "from sklearn.model_selection import train_test_split"
   ]
  },
  {
   "cell_type": "code",
   "execution_count": 25,
   "metadata": {},
   "outputs": [
    {
     "name": "stderr",
     "output_type": "stream",
     "text": [
      "C:\\Users\\akhil\\Anaconda3\\lib\\site-packages\\sklearn\\model_selection\\_split.py:2179: FutureWarning: From version 0.21, test_size will always complement train_size unless both are specified.\n",
      "  FutureWarning)\n"
     ]
    }
   ],
   "source": [
    "X_train, X_test, y_train, y_test = train_test_split(scaled_data, y,\n",
    "                                                    train_size=0.8,\n",
    "                                                    random_state=180,stratify = y)"
   ]
  },
  {
   "cell_type": "code",
   "execution_count": 26,
   "metadata": {},
   "outputs": [
    {
     "name": "stderr",
     "output_type": "stream",
     "text": [
      "C:\\Users\\akhil\\Anaconda3\\lib\\site-packages\\sklearn\\discriminant_analysis.py:388: UserWarning: Variables are collinear.\n",
      "  warnings.warn(\"Variables are collinear.\")\n"
     ]
    }
   ],
   "source": [
    "from sklearn.discriminant_analysis import LinearDiscriminantAnalysis as LDA\n",
    "\n",
    "lda = LDA(n_components=9)  \n",
    "X_train = lda.fit_transform(X_train, y_train)  \n",
    "X_test = lda.transform(X_test)"
   ]
  },
  {
   "cell_type": "code",
   "execution_count": 27,
   "metadata": {},
   "outputs": [
    {
     "name": "stderr",
     "output_type": "stream",
     "text": [
      "C:\\Users\\akhil\\Anaconda3\\lib\\site-packages\\sklearn\\ensemble\\forest.py:246: FutureWarning: The default value of n_estimators will change from 10 in version 0.20 to 100 in 0.22.\n",
      "  \"10 in version 0.20 to 100 in 0.22.\", FutureWarning)\n"
     ]
    }
   ],
   "source": [
    "from sklearn.ensemble import RandomForestClassifier\n",
    "\n",
    "classifier = RandomForestClassifier(max_depth=5, random_state=42)\n",
    "\n",
    "classifier.fit(X_train, y_train)  \n",
    "y_pred = classifier.predict(X_test) "
   ]
  },
  {
   "cell_type": "code",
   "execution_count": 28,
   "metadata": {},
   "outputs": [
    {
     "name": "stdout",
     "output_type": "stream",
     "text": [
      "[[ 9  1  0  0  0  0  0  0  0  0]\n",
      " [ 1  8  1  0  0  0  0  0  0  0]\n",
      " [ 0  0 10  0  0  0  0  0  0  0]\n",
      " [ 0  0  0 10  0  0  0  0  0  0]\n",
      " [ 0  0  0  0 10  0  0  0  0  0]\n",
      " [ 0  0  0  0  0 10  0  0  0  0]\n",
      " [ 0  0  0  0  0  0  9  0  1  0]\n",
      " [ 0  0  0  0  0  0  0 10  0  0]\n",
      " [ 0  0  0  0  0  0  0  1  9  0]\n",
      " [ 0  0  0  1  0  0  0  0  0  9]]\n",
      "Accuracy0.94\n"
     ]
    }
   ],
   "source": [
    "from sklearn.metrics import confusion_matrix  \n",
    "from sklearn.metrics import accuracy_score\n",
    "\n",
    "cm = confusion_matrix(y_test, y_pred)  \n",
    "print(cm)  \n",
    "print('Accuracy' + str(accuracy_score(y_test, y_pred))) "
   ]
  },
  {
   "cell_type": "code",
   "execution_count": null,
   "metadata": {},
   "outputs": [],
   "source": []
  }
 ],
 "metadata": {
  "kernelspec": {
   "display_name": "Python 3",
   "language": "python",
   "name": "python3"
  },
  "language_info": {
   "codemirror_mode": {
    "name": "ipython",
    "version": 3
   },
   "file_extension": ".py",
   "mimetype": "text/x-python",
   "name": "python",
   "nbconvert_exporter": "python",
   "pygments_lexer": "ipython3",
   "version": "3.7.1"
  }
 },
 "nbformat": 4,
 "nbformat_minor": 2
}
