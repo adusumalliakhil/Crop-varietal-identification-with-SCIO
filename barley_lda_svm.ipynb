{
 "cells": [
  {
   "cell_type": "code",
   "execution_count": 1,
   "metadata": {},
   "outputs": [],
   "source": [
    "import numpy as np\n",
    "import pandas as pd"
   ]
  },
  {
   "cell_type": "code",
   "execution_count": 2,
   "metadata": {},
   "outputs": [],
   "source": [
    "df = pd.read_csv(\"D:\\\\newproject\\\\New folder\\\\Barley.data.csv\")"
   ]
  },
  {
   "cell_type": "code",
   "execution_count": 3,
   "metadata": {},
   "outputs": [
    {
     "data": {
      "text/plain": [
       "False"
      ]
     },
     "execution_count": 3,
     "metadata": {},
     "output_type": "execute_result"
    }
   ],
   "source": [
    "#Na Handling\n",
    "df.isnull().values.any()"
   ]
  },
  {
   "cell_type": "code",
   "execution_count": 4,
   "metadata": {},
   "outputs": [],
   "source": [
    "df=df.dropna()"
   ]
  },
  {
   "cell_type": "code",
   "execution_count": 5,
   "metadata": {},
   "outputs": [],
   "source": [
    "from sklearn.model_selection import cross_val_predict, cross_val_score\n",
    "from sklearn.metrics import accuracy_score, classification_report, confusion_matrix"
   ]
  },
  {
   "cell_type": "code",
   "execution_count": 6,
   "metadata": {},
   "outputs": [],
   "source": [
    "X = df.drop(['Predictor'], axis=1)\n",
    "X_col = X.columns"
   ]
  },
  {
   "cell_type": "code",
   "execution_count": 7,
   "metadata": {},
   "outputs": [],
   "source": [
    "y = df['Predictor']"
   ]
  },
  {
   "cell_type": "code",
   "execution_count": 8,
   "metadata": {},
   "outputs": [
    {
     "name": "stderr",
     "output_type": "stream",
     "text": [
      "C:\\Users\\akhil\\Anaconda3\\lib\\site-packages\\scipy\\signal\\_arraytools.py:45: FutureWarning: Using a non-tuple sequence for multidimensional indexing is deprecated; use `arr[tuple(seq)]` instead of `arr[seq]`. In the future this will be interpreted as an array index, `arr[np.array(seq)]`, which will result either in an error or a different result.\n",
      "  b = a[a_slice]\n"
     ]
    }
   ],
   "source": [
    "\n",
    "#Savitzky-Golay filter with second degree derivative.\n",
    "from scipy.signal import savgol_filter \n",
    "\n",
    "sg=savgol_filter(X,window_length=11, polyorder=3, deriv=2, delta=1.0)"
   ]
  },
  {
   "cell_type": "code",
   "execution_count": 9,
   "metadata": {},
   "outputs": [
    {
     "data": {
      "text/html": [
       "<div>\n",
       "<style scoped>\n",
       "    .dataframe tbody tr th:only-of-type {\n",
       "        vertical-align: middle;\n",
       "    }\n",
       "\n",
       "    .dataframe tbody tr th {\n",
       "        vertical-align: top;\n",
       "    }\n",
       "\n",
       "    .dataframe thead th {\n",
       "        text-align: right;\n",
       "    }\n",
       "</style>\n",
       "<table border=\"1\" class=\"dataframe\">\n",
       "  <thead>\n",
       "    <tr style=\"text-align: right;\">\n",
       "      <th></th>\n",
       "      <th>740</th>\n",
       "      <th>741</th>\n",
       "      <th>742</th>\n",
       "      <th>743</th>\n",
       "      <th>744</th>\n",
       "      <th>745</th>\n",
       "      <th>746</th>\n",
       "      <th>747</th>\n",
       "      <th>748</th>\n",
       "      <th>749</th>\n",
       "      <th>...</th>\n",
       "      <th>1061</th>\n",
       "      <th>1062</th>\n",
       "      <th>1063</th>\n",
       "      <th>1064</th>\n",
       "      <th>1065</th>\n",
       "      <th>1066</th>\n",
       "      <th>1067</th>\n",
       "      <th>1068</th>\n",
       "      <th>1069</th>\n",
       "      <th>1070</th>\n",
       "    </tr>\n",
       "  </thead>\n",
       "  <tbody>\n",
       "    <tr>\n",
       "      <th>0</th>\n",
       "      <td>0.000084</td>\n",
       "      <td>0.000073</td>\n",
       "      <td>0.000061</td>\n",
       "      <td>0.000050</td>\n",
       "      <td>0.000039</td>\n",
       "      <td>0.000028</td>\n",
       "      <td>0.000010</td>\n",
       "      <td>-0.000011</td>\n",
       "      <td>-0.000030</td>\n",
       "      <td>-0.000044</td>\n",
       "      <td>...</td>\n",
       "      <td>-0.000446</td>\n",
       "      <td>-0.000474</td>\n",
       "      <td>-0.000300</td>\n",
       "      <td>0.000008</td>\n",
       "      <td>0.000319</td>\n",
       "      <td>0.000781</td>\n",
       "      <td>0.001243</td>\n",
       "      <td>0.001705</td>\n",
       "      <td>0.002167</td>\n",
       "      <td>0.002629</td>\n",
       "    </tr>\n",
       "    <tr>\n",
       "      <th>1</th>\n",
       "      <td>0.000033</td>\n",
       "      <td>0.000027</td>\n",
       "      <td>0.000021</td>\n",
       "      <td>0.000014</td>\n",
       "      <td>0.000008</td>\n",
       "      <td>0.000001</td>\n",
       "      <td>-0.000011</td>\n",
       "      <td>-0.000024</td>\n",
       "      <td>-0.000036</td>\n",
       "      <td>-0.000042</td>\n",
       "      <td>...</td>\n",
       "      <td>-0.000446</td>\n",
       "      <td>-0.000474</td>\n",
       "      <td>-0.000300</td>\n",
       "      <td>0.000010</td>\n",
       "      <td>0.000322</td>\n",
       "      <td>0.000786</td>\n",
       "      <td>0.001250</td>\n",
       "      <td>0.001714</td>\n",
       "      <td>0.002178</td>\n",
       "      <td>0.002642</td>\n",
       "    </tr>\n",
       "    <tr>\n",
       "      <th>2</th>\n",
       "      <td>-0.000139</td>\n",
       "      <td>-0.000128</td>\n",
       "      <td>-0.000117</td>\n",
       "      <td>-0.000105</td>\n",
       "      <td>-0.000094</td>\n",
       "      <td>-0.000082</td>\n",
       "      <td>-0.000078</td>\n",
       "      <td>-0.000073</td>\n",
       "      <td>-0.000069</td>\n",
       "      <td>-0.000060</td>\n",
       "      <td>...</td>\n",
       "      <td>-0.000462</td>\n",
       "      <td>-0.000491</td>\n",
       "      <td>-0.000310</td>\n",
       "      <td>0.000010</td>\n",
       "      <td>0.000334</td>\n",
       "      <td>0.000815</td>\n",
       "      <td>0.001296</td>\n",
       "      <td>0.001777</td>\n",
       "      <td>0.002258</td>\n",
       "      <td>0.002738</td>\n",
       "    </tr>\n",
       "    <tr>\n",
       "      <th>3</th>\n",
       "      <td>0.000055</td>\n",
       "      <td>0.000043</td>\n",
       "      <td>0.000031</td>\n",
       "      <td>0.000020</td>\n",
       "      <td>0.000008</td>\n",
       "      <td>-0.000004</td>\n",
       "      <td>-0.000022</td>\n",
       "      <td>-0.000043</td>\n",
       "      <td>-0.000061</td>\n",
       "      <td>-0.000071</td>\n",
       "      <td>...</td>\n",
       "      <td>-0.000471</td>\n",
       "      <td>-0.000502</td>\n",
       "      <td>-0.000315</td>\n",
       "      <td>0.000014</td>\n",
       "      <td>0.000347</td>\n",
       "      <td>0.000842</td>\n",
       "      <td>0.001337</td>\n",
       "      <td>0.001832</td>\n",
       "      <td>0.002327</td>\n",
       "      <td>0.002822</td>\n",
       "    </tr>\n",
       "    <tr>\n",
       "      <th>4</th>\n",
       "      <td>-0.000148</td>\n",
       "      <td>-0.000133</td>\n",
       "      <td>-0.000119</td>\n",
       "      <td>-0.000105</td>\n",
       "      <td>-0.000091</td>\n",
       "      <td>-0.000077</td>\n",
       "      <td>-0.000069</td>\n",
       "      <td>-0.000062</td>\n",
       "      <td>-0.000055</td>\n",
       "      <td>-0.000045</td>\n",
       "      <td>...</td>\n",
       "      <td>-0.000446</td>\n",
       "      <td>-0.000473</td>\n",
       "      <td>-0.000299</td>\n",
       "      <td>0.000010</td>\n",
       "      <td>0.000322</td>\n",
       "      <td>0.000786</td>\n",
       "      <td>0.001249</td>\n",
       "      <td>0.001713</td>\n",
       "      <td>0.002176</td>\n",
       "      <td>0.002640</td>\n",
       "    </tr>\n",
       "  </tbody>\n",
       "</table>\n",
       "<p>5 rows × 331 columns</p>\n",
       "</div>"
      ],
      "text/plain": [
       "        740       741       742       743       744       745       746  \\\n",
       "0  0.000084  0.000073  0.000061  0.000050  0.000039  0.000028  0.000010   \n",
       "1  0.000033  0.000027  0.000021  0.000014  0.000008  0.000001 -0.000011   \n",
       "2 -0.000139 -0.000128 -0.000117 -0.000105 -0.000094 -0.000082 -0.000078   \n",
       "3  0.000055  0.000043  0.000031  0.000020  0.000008 -0.000004 -0.000022   \n",
       "4 -0.000148 -0.000133 -0.000119 -0.000105 -0.000091 -0.000077 -0.000069   \n",
       "\n",
       "        747       748       749    ...         1061      1062      1063  \\\n",
       "0 -0.000011 -0.000030 -0.000044    ...    -0.000446 -0.000474 -0.000300   \n",
       "1 -0.000024 -0.000036 -0.000042    ...    -0.000446 -0.000474 -0.000300   \n",
       "2 -0.000073 -0.000069 -0.000060    ...    -0.000462 -0.000491 -0.000310   \n",
       "3 -0.000043 -0.000061 -0.000071    ...    -0.000471 -0.000502 -0.000315   \n",
       "4 -0.000062 -0.000055 -0.000045    ...    -0.000446 -0.000473 -0.000299   \n",
       "\n",
       "       1064      1065      1066      1067      1068      1069      1070  \n",
       "0  0.000008  0.000319  0.000781  0.001243  0.001705  0.002167  0.002629  \n",
       "1  0.000010  0.000322  0.000786  0.001250  0.001714  0.002178  0.002642  \n",
       "2  0.000010  0.000334  0.000815  0.001296  0.001777  0.002258  0.002738  \n",
       "3  0.000014  0.000347  0.000842  0.001337  0.001832  0.002327  0.002822  \n",
       "4  0.000010  0.000322  0.000786  0.001249  0.001713  0.002176  0.002640  \n",
       "\n",
       "[5 rows x 331 columns]"
      ]
     },
     "execution_count": 9,
     "metadata": {},
     "output_type": "execute_result"
    }
   ],
   "source": [
    "sg_x=pd.DataFrame(sg, columns=X_col)\n",
    "sg_x.head()"
   ]
  },
  {
   "cell_type": "code",
   "execution_count": 42,
   "metadata": {},
   "outputs": [],
   "source": [
    "from sklearn.model_selection import train_test_split"
   ]
  },
  {
   "cell_type": "code",
   "execution_count": 52,
   "metadata": {},
   "outputs": [
    {
     "name": "stderr",
     "output_type": "stream",
     "text": [
      "C:\\Users\\akhil\\Anaconda3\\lib\\site-packages\\sklearn\\model_selection\\_split.py:2179: FutureWarning: From version 0.21, test_size will always complement train_size unless both are specified.\n",
      "  FutureWarning)\n"
     ]
    }
   ],
   "source": [
    "X_train, X_test, y_train, y_test = train_test_split(sg_x, y,\n",
    "                                                    train_size=0.8,\n",
    "                                                    random_state=1,stratify = y)"
   ]
  },
  {
   "cell_type": "code",
   "execution_count": 53,
   "metadata": {},
   "outputs": [
    {
     "name": "stderr",
     "output_type": "stream",
     "text": [
      "C:\\Users\\akhil\\Anaconda3\\lib\\site-packages\\sklearn\\discriminant_analysis.py:388: UserWarning: Variables are collinear.\n",
      "  warnings.warn(\"Variables are collinear.\")\n"
     ]
    }
   ],
   "source": [
    "from sklearn.discriminant_analysis import LinearDiscriminantAnalysis as LDA\n",
    "\n",
    "lda = LDA(n_components=15)  \n",
    "X_train = lda.fit_transform(X_train, y_train)  \n",
    "X_test = lda.transform(X_test)"
   ]
  },
  {
   "cell_type": "code",
   "execution_count": 54,
   "metadata": {},
   "outputs": [
    {
     "data": {
      "text/html": [
       "<div>\n",
       "<style scoped>\n",
       "    .dataframe tbody tr th:only-of-type {\n",
       "        vertical-align: middle;\n",
       "    }\n",
       "\n",
       "    .dataframe tbody tr th {\n",
       "        vertical-align: top;\n",
       "    }\n",
       "\n",
       "    .dataframe thead th {\n",
       "        text-align: right;\n",
       "    }\n",
       "</style>\n",
       "<table border=\"1\" class=\"dataframe\">\n",
       "  <thead>\n",
       "    <tr style=\"text-align: right;\">\n",
       "      <th></th>\n",
       "      <th>0</th>\n",
       "      <th>1</th>\n",
       "      <th>2</th>\n",
       "      <th>3</th>\n",
       "      <th>4</th>\n",
       "      <th>5</th>\n",
       "      <th>6</th>\n",
       "      <th>7</th>\n",
       "      <th>8</th>\n",
       "      <th>9</th>\n",
       "      <th>10</th>\n",
       "      <th>11</th>\n",
       "      <th>12</th>\n",
       "      <th>13</th>\n",
       "      <th>14</th>\n",
       "    </tr>\n",
       "  </thead>\n",
       "  <tbody>\n",
       "    <tr>\n",
       "      <th>0</th>\n",
       "      <td>-2.153120</td>\n",
       "      <td>-0.521615</td>\n",
       "      <td>2.096278</td>\n",
       "      <td>-2.653199</td>\n",
       "      <td>1.936347</td>\n",
       "      <td>-0.678512</td>\n",
       "      <td>-0.412160</td>\n",
       "      <td>-1.402645</td>\n",
       "      <td>-1.085823</td>\n",
       "      <td>-7.739414</td>\n",
       "      <td>-0.519025</td>\n",
       "      <td>0.241128</td>\n",
       "      <td>0.461290</td>\n",
       "      <td>-1.603855</td>\n",
       "      <td>-1.884483</td>\n",
       "    </tr>\n",
       "    <tr>\n",
       "      <th>1</th>\n",
       "      <td>0.793335</td>\n",
       "      <td>-1.003247</td>\n",
       "      <td>1.585039</td>\n",
       "      <td>-1.576953</td>\n",
       "      <td>2.608780</td>\n",
       "      <td>-0.596795</td>\n",
       "      <td>0.404763</td>\n",
       "      <td>-0.644297</td>\n",
       "      <td>-1.725422</td>\n",
       "      <td>-2.419675</td>\n",
       "      <td>0.151759</td>\n",
       "      <td>-1.945308</td>\n",
       "      <td>0.933217</td>\n",
       "      <td>-0.819712</td>\n",
       "      <td>0.125786</td>\n",
       "    </tr>\n",
       "    <tr>\n",
       "      <th>2</th>\n",
       "      <td>-2.676651</td>\n",
       "      <td>1.118190</td>\n",
       "      <td>-1.208073</td>\n",
       "      <td>-0.834012</td>\n",
       "      <td>2.845332</td>\n",
       "      <td>-1.361971</td>\n",
       "      <td>5.017717</td>\n",
       "      <td>2.590173</td>\n",
       "      <td>-2.602771</td>\n",
       "      <td>3.652716</td>\n",
       "      <td>-0.662136</td>\n",
       "      <td>-1.380277</td>\n",
       "      <td>1.560834</td>\n",
       "      <td>-0.603653</td>\n",
       "      <td>-0.636839</td>\n",
       "    </tr>\n",
       "    <tr>\n",
       "      <th>3</th>\n",
       "      <td>4.645990</td>\n",
       "      <td>1.020540</td>\n",
       "      <td>0.324986</td>\n",
       "      <td>-0.524509</td>\n",
       "      <td>-4.293103</td>\n",
       "      <td>-4.497423</td>\n",
       "      <td>-2.569946</td>\n",
       "      <td>4.879553</td>\n",
       "      <td>7.359028</td>\n",
       "      <td>-1.008641</td>\n",
       "      <td>-1.517124</td>\n",
       "      <td>1.426084</td>\n",
       "      <td>1.052501</td>\n",
       "      <td>-0.229407</td>\n",
       "      <td>1.473836</td>\n",
       "    </tr>\n",
       "    <tr>\n",
       "      <th>4</th>\n",
       "      <td>-0.669729</td>\n",
       "      <td>-0.913898</td>\n",
       "      <td>3.121997</td>\n",
       "      <td>4.511966</td>\n",
       "      <td>-0.858567</td>\n",
       "      <td>-5.107973</td>\n",
       "      <td>-1.190666</td>\n",
       "      <td>-2.237453</td>\n",
       "      <td>0.742981</td>\n",
       "      <td>2.355361</td>\n",
       "      <td>1.668705</td>\n",
       "      <td>-3.019222</td>\n",
       "      <td>-3.109874</td>\n",
       "      <td>0.075955</td>\n",
       "      <td>-5.350234</td>\n",
       "    </tr>\n",
       "  </tbody>\n",
       "</table>\n",
       "</div>"
      ],
      "text/plain": [
       "         0         1         2         3         4         5         6   \\\n",
       "0 -2.153120 -0.521615  2.096278 -2.653199  1.936347 -0.678512 -0.412160   \n",
       "1  0.793335 -1.003247  1.585039 -1.576953  2.608780 -0.596795  0.404763   \n",
       "2 -2.676651  1.118190 -1.208073 -0.834012  2.845332 -1.361971  5.017717   \n",
       "3  4.645990  1.020540  0.324986 -0.524509 -4.293103 -4.497423 -2.569946   \n",
       "4 -0.669729 -0.913898  3.121997  4.511966 -0.858567 -5.107973 -1.190666   \n",
       "\n",
       "         7         8         9         10        11        12        13  \\\n",
       "0 -1.402645 -1.085823 -7.739414 -0.519025  0.241128  0.461290 -1.603855   \n",
       "1 -0.644297 -1.725422 -2.419675  0.151759 -1.945308  0.933217 -0.819712   \n",
       "2  2.590173 -2.602771  3.652716 -0.662136 -1.380277  1.560834 -0.603653   \n",
       "3  4.879553  7.359028 -1.008641 -1.517124  1.426084  1.052501 -0.229407   \n",
       "4 -2.237453  0.742981  2.355361  1.668705 -3.019222 -3.109874  0.075955   \n",
       "\n",
       "         14  \n",
       "0 -1.884483  \n",
       "1  0.125786  \n",
       "2 -0.636839  \n",
       "3  1.473836  \n",
       "4 -5.350234  "
      ]
     },
     "execution_count": 54,
     "metadata": {},
     "output_type": "execute_result"
    }
   ],
   "source": [
    "pd.DataFrame(X_train).head()"
   ]
  },
  {
   "cell_type": "code",
   "execution_count": 55,
   "metadata": {},
   "outputs": [
    {
     "name": "stderr",
     "output_type": "stream",
     "text": [
      "C:\\Users\\akhil\\Anaconda3\\lib\\site-packages\\sklearn\\svm\\base.py:196: FutureWarning: The default value of gamma will change from 'auto' to 'scale' in version 0.22 to account better for unscaled features. Set gamma explicitly to 'auto' or 'scale' to avoid this warning.\n",
      "  \"avoid this warning.\", FutureWarning)\n"
     ]
    }
   ],
   "source": [
    "from sklearn import svm\n",
    "clf = svm.SVC(kernel=\"rbf\")\n",
    "clf.fit(X_train, y_train)  \n",
    "y_pred = clf.predict(X_test)"
   ]
  },
  {
   "cell_type": "code",
   "execution_count": 56,
   "metadata": {},
   "outputs": [
    {
     "name": "stdout",
     "output_type": "stream",
     "text": [
      "[[ 9  0  0  0  0  0  0  0  0  1  0  0  0  0  0  0  0  0  0  0  0  0  0  0]\n",
      " [ 0 10  0  0  0  0  0  0  0  0  0  0  0  0  0  0  0  0  0  0  0  0  0  0]\n",
      " [ 0  0 10  0  0  0  0  0  0  0  0  0  0  0  0  0  0  0  0  0  0  0  0  0]\n",
      " [ 0  0  0 10  0  0  0  0  0  0  0  0  0  0  0  0  0  0  0  0  0  0  0  0]\n",
      " [ 0  0  0  0  9  0  0  0  1  0  0  0  0  0  0  0  0  0  0  0  0  0  0  0]\n",
      " [ 0  0  0  0  0 10  0  0  0  0  0  0  0  0  0  0  0  0  0  0  0  0  0  0]\n",
      " [ 0  0  0  0  0  0 10  0  0  0  0  0  0  0  0  0  0  0  0  0  0  0  0  0]\n",
      " [ 0  0  0  0  0  0  0 10  0  0  0  0  0  0  0  0  0  0  0  0  0  0  0  0]\n",
      " [ 0  0  0  0  0  0  0  0 10  0  0  0  0  0  0  0  0  0  0  0  0  0  0  0]\n",
      " [ 0  1  0  0  0  0  0  0  0  9  0  0  0  0  0  0  0  0  0  0  0  0  0  0]\n",
      " [ 0  0  0  0  0  0  0  0  0  0 10  0  0  0  0  0  0  0  0  0  0  0  0  0]\n",
      " [ 0  0  0  0  0  0  0  0  0  0  0  8  0  0  0  0  1  0  0  0  0  0  1  0]\n",
      " [ 0  0  0  0  1  0  0  0  0  0  0  0  9  0  0  0  0  0  0  0  0  0  0  0]\n",
      " [ 0  0  0  0  0  0  0  0  0  0  0  0  0 10  0  0  0  0  0  0  0  0  0  0]\n",
      " [ 0  0  0  0  0  0  0  0  0  0  0  0  0  0  8  0  0  0  0  0  0  2  0  0]\n",
      " [ 0  0  0  0  0  0  0  0  0  0  3  0  0  0  0  7  0  0  0  0  0  0  0  0]\n",
      " [ 0  0  0  0  0  0  0  0  0  0  0  1  0  0  0  0  9  0  0  0  0  0  0  0]\n",
      " [ 0  0  0  1  0  0  0  0  0  0  0  0  0  0  0  0  0  8  0  0  0  0  0  1]\n",
      " [ 0  0  0  0  0  0  0  2  0  0  0  0  0  0  0  3  0  0  5  0  0  0  0  0]\n",
      " [ 0  0  0  0  0  0  0  0  0  0  0  0  0  0  0  0  0  0  0 10  0  0  0  0]\n",
      " [ 0  0  0  0  0  0  0  0  0  0  0  0  0  0  0  0  0  0  0  0 10  0  0  0]\n",
      " [ 0  0  0  0  0  0  0  0  0  0  0  0  0  0  4  0  0  0  0  0  0  6  0  0]\n",
      " [ 0  0  0  0  0  0  0  0  0  0  0  0  0  0  0  0  0  0  0  0  1  0  9  0]\n",
      " [ 0  0  0  0  0  0  0  0  0  0  0  1  0  0  0  0  0  0  0  0  0  0  0  9]]\n",
      "Accuracy0.8958333333333334\n"
     ]
    }
   ],
   "source": [
    "from sklearn.metrics import confusion_matrix  \n",
    "from sklearn.metrics import accuracy_score\n",
    "\n",
    "cm = confusion_matrix(y_test, y_pred)  \n",
    "print(cm)  \n",
    "print('Accuracy' + str(accuracy_score(y_test, y_pred))) "
   ]
  },
  {
   "cell_type": "code",
   "execution_count": null,
   "metadata": {},
   "outputs": [],
   "source": []
  }
 ],
 "metadata": {
  "kernelspec": {
   "display_name": "Python 3",
   "language": "python",
   "name": "python3"
  },
  "language_info": {
   "codemirror_mode": {
    "name": "ipython",
    "version": 3
   },
   "file_extension": ".py",
   "mimetype": "text/x-python",
   "name": "python",
   "nbconvert_exporter": "python",
   "pygments_lexer": "ipython3",
   "version": "3.7.1"
  }
 },
 "nbformat": 4,
 "nbformat_minor": 2
}
